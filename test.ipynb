{
 "cells": [
  {
   "cell_type": "code",
   "execution_count": 30,
   "metadata": {},
   "outputs": [],
   "source": [
    "# ! pip uninstall surface_erasure_decoding\n",
    "# ! pip3 install git+https://github.com/JiakaiW/surface_erasure_decoding"
   ]
  },
  {
   "cell_type": "code",
   "execution_count": 17,
   "metadata": {},
   "outputs": [],
   "source": [
    "from surface_erasure_decoding import sur_job"
   ]
  },
  {
   "cell_type": "code",
   "execution_count": 20,
   "metadata": {},
   "outputs": [],
   "source": [
    "import uuid"
   ]
  },
  {
   "cell_type": "code",
   "execution_count": 23,
   "metadata": {},
   "outputs": [],
   "source": [
    "p_e = 0.09\n",
    "p_z_shift = 0.001\n",
    "p_p = 0.001\n",
    "shots = 50"
   ]
  },
  {
   "cell_type": "code",
   "execution_count": 24,
   "metadata": {},
   "outputs": [
    {
     "name": "stdout",
     "output_type": "stream",
     "text": [
      "decoding finished 80.0%\n",
      "0.08834789752960205 per shot (d = 3)\n"
     ]
    },
    {
     "data": {
      "text/plain": [
       "{'job_id': '068ff32e-a770-42b4-b33b-49d0f09e475b',\n",
       " 'circuit_id': '3432f4e0-bd64-4a62-af36-73c06e9b1d32',\n",
       " 'shots': 50,\n",
       " 'new_circ': 2,\n",
       " 'normal': 11}"
      ]
     },
     "execution_count": 24,
     "metadata": {},
     "output_type": "execute_result"
    }
   ],
   "source": [
    "job = sur_job.Sample_decode_job(d = 3,\n",
    "                        p_e=p_e,\n",
    "                        p_z_shift= p_z_shift,\n",
    "                        p_p=p_p,\n",
    "                        shots=shots,\n",
    "                        job_id=str(uuid.uuid4()),\n",
    "                        circuit_id=str(uuid.uuid4())\n",
    "                        )\n",
    "dict = job.sample_and_print_result(print_progress = True)\n",
    "dict"
   ]
  },
  {
   "cell_type": "code",
   "execution_count": 26,
   "metadata": {},
   "outputs": [
    {
     "name": "stdout",
     "output_type": "stream",
     "text": [
      "decoding finished 80.0%\n",
      "0.33170857906341555 per shot (d = 5)\n"
     ]
    },
    {
     "data": {
      "text/plain": [
       "{'job_id': '31e84468-398b-4af4-9fb0-671a77971fdd',\n",
       " 'circuit_id': 'b1c50e96-f63c-4ab5-891b-7c0f2212f5d4',\n",
       " 'shots': 50,\n",
       " 'new_circ': 1,\n",
       " 'normal': 18}"
      ]
     },
     "execution_count": 26,
     "metadata": {},
     "output_type": "execute_result"
    }
   ],
   "source": [
    "job =sur_job.Sample_decode_job(d = 5,\n",
    "                        p_e=p_e,\n",
    "                        p_z_shift= p_z_shift,\n",
    "                        p_p=p_p,\n",
    "                        shots=shots,\n",
    "                        job_id=str(uuid.uuid4()),\n",
    "                        circuit_id=str(uuid.uuid4())\n",
    "                        )\n",
    "dict = job.sample_and_print_result(print_progress = True)\n",
    "dict"
   ]
  },
  {
   "cell_type": "code",
   "execution_count": 27,
   "metadata": {},
   "outputs": [
    {
     "name": "stdout",
     "output_type": "stream",
     "text": [
      "decoding finished 80.0%\n",
      "0.8562095403671265 per shot (d = 7)\n"
     ]
    },
    {
     "data": {
      "text/plain": [
       "{'job_id': 'e92c1998-6df2-4f73-ba76-0e1d9ac2da02',\n",
       " 'circuit_id': 'efcd630a-95c4-4254-abb4-8d25829e11ed',\n",
       " 'shots': 50,\n",
       " 'new_circ': 3,\n",
       " 'normal': 21}"
      ]
     },
     "execution_count": 27,
     "metadata": {},
     "output_type": "execute_result"
    }
   ],
   "source": [
    "job =sur_job.Sample_decode_job(d = 7,\n",
    "                        p_e=p_e,\n",
    "                        p_z_shift= p_z_shift,\n",
    "                        p_p=p_p,\n",
    "                        shots=shots,\n",
    "                        job_id=str(uuid.uuid4()),\n",
    "                        circuit_id=str(uuid.uuid4())\n",
    "                        )\n",
    "dict = job.sample_and_print_result(print_progress = True)\n",
    "dict"
   ]
  },
  {
   "cell_type": "code",
   "execution_count": 28,
   "metadata": {},
   "outputs": [
    {
     "name": "stdout",
     "output_type": "stream",
     "text": [
      "decoding finished 80.0%\n",
      "1.7761905002593994 per shot (d = 9)\n"
     ]
    },
    {
     "data": {
      "text/plain": [
       "{'job_id': '01adfdb3-a140-4408-ac53-803ea1888a64',\n",
       " 'circuit_id': 'a5c0fbeb-701f-471b-8edd-1e1567fc5337',\n",
       " 'shots': 50,\n",
       " 'new_circ': 0,\n",
       " 'normal': 27}"
      ]
     },
     "execution_count": 28,
     "metadata": {},
     "output_type": "execute_result"
    }
   ],
   "source": [
    "job =sur_job.Sample_decode_job(d = 9,\n",
    "                        p_e=p_e,\n",
    "                        p_z_shift= p_z_shift,\n",
    "                        p_p=p_p,\n",
    "                        shots=shots,\n",
    "                        job_id=str(uuid.uuid4()),\n",
    "                        circuit_id=str(uuid.uuid4())\n",
    "                        )\n",
    "dict = job.sample_and_print_result(print_progress = True)\n",
    "dict"
   ]
  },
  {
   "cell_type": "code",
   "execution_count": 29,
   "metadata": {},
   "outputs": [
    {
     "name": "stdout",
     "output_type": "stream",
     "text": [
      "decoding finished 90.0%\n",
      "3.193429179191589 per shot (d = 11)\n"
     ]
    },
    {
     "data": {
      "text/plain": [
       "{'job_id': 'ea1fc1aa-1daf-49b7-a0f3-9b048398cf40',\n",
       " 'circuit_id': 'bff846d3-60e6-466f-8b52-ce756919f60e',\n",
       " 'shots': 100,\n",
       " 'new_circ': 7,\n",
       " 'normal': 42}"
      ]
     },
     "execution_count": 29,
     "metadata": {},
     "output_type": "execute_result"
    }
   ],
   "source": [
    "job =sur_job.Sample_decode_job(d = 11,\n",
    "                        p_e=p_e,\n",
    "                        p_z_shift= p_z_shift,\n",
    "                        p_p=p_p,\n",
    "                        shots=100,\n",
    "                        job_id=str(uuid.uuid4()),\n",
    "                        circuit_id=str(uuid.uuid4())\n",
    "                        )\n",
    "dict = job.sample_and_print_result(print_progress = True)\n",
    "dict"
   ]
  },
  {
   "cell_type": "code",
   "execution_count": null,
   "metadata": {},
   "outputs": [],
   "source": []
  }
 ],
 "metadata": {
  "kernelspec": {
   "display_name": "tensorflow",
   "language": "python",
   "name": "python3"
  },
  "language_info": {
   "codemirror_mode": {
    "name": "ipython",
    "version": 3
   },
   "file_extension": ".py",
   "mimetype": "text/x-python",
   "name": "python",
   "nbconvert_exporter": "python",
   "pygments_lexer": "ipython3",
   "version": "3.10.14"
  },
  "orig_nbformat": 4
 },
 "nbformat": 4,
 "nbformat_minor": 2
}
