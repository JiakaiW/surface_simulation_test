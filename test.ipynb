{
 "cells": [
  {
   "cell_type": "code",
   "execution_count": 31,
   "metadata": {},
   "outputs": [
    {
     "name": "stdout",
     "output_type": "stream",
     "text": [
      "Collecting git+https://github.com/JiakaiW/surface_erasure_decoding\n",
      "  Cloning https://github.com/JiakaiW/surface_erasure_decoding to /private/var/folders/9k/z8bpg3hj3d9841ggs75xmwxw0000gn/T/pip-req-build-hm9ryfcl\n",
      "  Running command git clone --filter=blob:none --quiet https://github.com/JiakaiW/surface_erasure_decoding /private/var/folders/9k/z8bpg3hj3d9841ggs75xmwxw0000gn/T/pip-req-build-hm9ryfcl\n",
      "  Resolved https://github.com/JiakaiW/surface_erasure_decoding to commit 967bd0d354d36ca72ca4d025dd2519094224bc15\n",
      "  Preparing metadata (setup.py) ... \u001b[?25ldone\n",
      "\u001b[?25hRequirement already satisfied: numpy in /Users/jiakaiwang/miniconda3/envs/qec_sim/lib/python3.10/site-packages (from surface_erasure_decoding==0.0.1) (1.26.4)\n",
      "Requirement already satisfied: stim in /Users/jiakaiwang/miniconda3/envs/qec_sim/lib/python3.10/site-packages (from surface_erasure_decoding==0.0.1) (1.13.0)\n",
      "Requirement already satisfied: pymatching in /Users/jiakaiwang/miniconda3/envs/qec_sim/lib/python3.10/site-packages (from surface_erasure_decoding==0.0.1) (2.2.1)\n",
      "Requirement already satisfied: scipy in /Users/jiakaiwang/miniconda3/envs/qec_sim/lib/python3.10/site-packages (from pymatching->surface_erasure_decoding==0.0.1) (1.14.0)\n",
      "Requirement already satisfied: networkx in /Users/jiakaiwang/miniconda3/envs/qec_sim/lib/python3.10/site-packages (from pymatching->surface_erasure_decoding==0.0.1) (3.3)\n",
      "Requirement already satisfied: matplotlib in /Users/jiakaiwang/miniconda3/envs/qec_sim/lib/python3.10/site-packages (from pymatching->surface_erasure_decoding==0.0.1) (3.9.1)\n",
      "Requirement already satisfied: contourpy>=1.0.1 in /Users/jiakaiwang/miniconda3/envs/qec_sim/lib/python3.10/site-packages (from matplotlib->pymatching->surface_erasure_decoding==0.0.1) (1.2.1)\n",
      "Requirement already satisfied: cycler>=0.10 in /Users/jiakaiwang/miniconda3/envs/qec_sim/lib/python3.10/site-packages (from matplotlib->pymatching->surface_erasure_decoding==0.0.1) (0.12.1)\n",
      "Requirement already satisfied: fonttools>=4.22.0 in /Users/jiakaiwang/miniconda3/envs/qec_sim/lib/python3.10/site-packages (from matplotlib->pymatching->surface_erasure_decoding==0.0.1) (4.53.1)\n",
      "Requirement already satisfied: kiwisolver>=1.3.1 in /Users/jiakaiwang/miniconda3/envs/qec_sim/lib/python3.10/site-packages (from matplotlib->pymatching->surface_erasure_decoding==0.0.1) (1.4.5)\n",
      "Requirement already satisfied: packaging>=20.0 in /Users/jiakaiwang/miniconda3/envs/qec_sim/lib/python3.10/site-packages (from matplotlib->pymatching->surface_erasure_decoding==0.0.1) (24.1)\n",
      "Requirement already satisfied: pillow>=8 in /Users/jiakaiwang/miniconda3/envs/qec_sim/lib/python3.10/site-packages (from matplotlib->pymatching->surface_erasure_decoding==0.0.1) (10.4.0)\n",
      "Requirement already satisfied: pyparsing>=2.3.1 in /Users/jiakaiwang/miniconda3/envs/qec_sim/lib/python3.10/site-packages (from matplotlib->pymatching->surface_erasure_decoding==0.0.1) (3.1.2)\n",
      "Requirement already satisfied: python-dateutil>=2.7 in /Users/jiakaiwang/miniconda3/envs/qec_sim/lib/python3.10/site-packages (from matplotlib->pymatching->surface_erasure_decoding==0.0.1) (2.9.0)\n",
      "Requirement already satisfied: six>=1.5 in /Users/jiakaiwang/miniconda3/envs/qec_sim/lib/python3.10/site-packages (from python-dateutil>=2.7->matplotlib->pymatching->surface_erasure_decoding==0.0.1) (1.16.0)\n",
      "Building wheels for collected packages: surface_erasure_decoding\n",
      "  Building wheel for surface_erasure_decoding (setup.py) ... \u001b[?25ldone\n",
      "\u001b[?25h  Created wheel for surface_erasure_decoding: filename=surface_erasure_decoding-0.0.1-py3-none-any.whl size=23149 sha256=88218126d227a5550267d50ca65cd5961fb462fd217889e7217117dfed287d50\n",
      "  Stored in directory: /private/var/folders/9k/z8bpg3hj3d9841ggs75xmwxw0000gn/T/pip-ephem-wheel-cache-v4rmw2zd/wheels/04/e0/01/1fbe8e6e1af34a1bf73937244d58d6b8e70627e85960c25926\n",
      "Successfully built surface_erasure_decoding\n",
      "Installing collected packages: surface_erasure_decoding\n",
      "Successfully installed surface_erasure_decoding-0.0.1\n"
     ]
    }
   ],
   "source": [
    "# ! pip uninstall surface_erasure_decoding\n",
    "! pip3 install git+https://github.com/JiakaiW/surface_erasure_decoding"
   ]
  },
  {
   "cell_type": "code",
   "execution_count": 17,
   "metadata": {},
   "outputs": [],
   "source": [
    "from surface_erasure_decoding import sur_job"
   ]
  },
  {
   "cell_type": "code",
   "execution_count": 20,
   "metadata": {},
   "outputs": [],
   "source": [
    "import uuid"
   ]
  },
  {
   "cell_type": "code",
   "execution_count": 23,
   "metadata": {},
   "outputs": [],
   "source": [
    "p_e = 0.09\n",
    "p_z_shift = 0.001\n",
    "p_p = 0.001\n",
    "shots = 50"
   ]
  },
  {
   "cell_type": "code",
   "execution_count": 24,
   "metadata": {},
   "outputs": [
    {
     "name": "stdout",
     "output_type": "stream",
     "text": [
      "decoding finished 80.0%\n",
      "0.08834789752960205 per shot (d = 3)\n"
     ]
    },
    {
     "data": {
      "text/plain": [
       "{'job_id': '068ff32e-a770-42b4-b33b-49d0f09e475b',\n",
       " 'circuit_id': '3432f4e0-bd64-4a62-af36-73c06e9b1d32',\n",
       " 'shots': 50,\n",
       " 'new_circ': 2,\n",
       " 'normal': 11}"
      ]
     },
     "execution_count": 24,
     "metadata": {},
     "output_type": "execute_result"
    }
   ],
   "source": [
    "job = sur_job.Sample_decode_job(d = 3,\n",
    "                        p_e=p_e,\n",
    "                        p_z_shift= p_z_shift,\n",
    "                        p_p=p_p,\n",
    "                        shots=shots,\n",
    "                        job_id=str(uuid.uuid4()),\n",
    "                        circuit_id=str(uuid.uuid4())\n",
    "                        )\n",
    "dict = job.sample_and_print_result(print_progress = True)\n",
    "dict"
   ]
  },
  {
   "cell_type": "code",
   "execution_count": 26,
   "metadata": {},
   "outputs": [
    {
     "name": "stdout",
     "output_type": "stream",
     "text": [
      "decoding finished 80.0%\n",
      "0.33170857906341555 per shot (d = 5)\n"
     ]
    },
    {
     "data": {
      "text/plain": [
       "{'job_id': '31e84468-398b-4af4-9fb0-671a77971fdd',\n",
       " 'circuit_id': 'b1c50e96-f63c-4ab5-891b-7c0f2212f5d4',\n",
       " 'shots': 50,\n",
       " 'new_circ': 1,\n",
       " 'normal': 18}"
      ]
     },
     "execution_count": 26,
     "metadata": {},
     "output_type": "execute_result"
    }
   ],
   "source": [
    "job =sur_job.Sample_decode_job(d = 5,\n",
    "                        p_e=p_e,\n",
    "                        p_z_shift= p_z_shift,\n",
    "                        p_p=p_p,\n",
    "                        shots=shots,\n",
    "                        job_id=str(uuid.uuid4()),\n",
    "                        circuit_id=str(uuid.uuid4())\n",
    "                        )\n",
    "dict = job.sample_and_print_result(print_progress = True)\n",
    "dict"
   ]
  },
  {
   "cell_type": "code",
   "execution_count": 27,
   "metadata": {},
   "outputs": [
    {
     "name": "stdout",
     "output_type": "stream",
     "text": [
      "decoding finished 80.0%\n",
      "0.8562095403671265 per shot (d = 7)\n"
     ]
    },
    {
     "data": {
      "text/plain": [
       "{'job_id': 'e92c1998-6df2-4f73-ba76-0e1d9ac2da02',\n",
       " 'circuit_id': 'efcd630a-95c4-4254-abb4-8d25829e11ed',\n",
       " 'shots': 50,\n",
       " 'new_circ': 3,\n",
       " 'normal': 21}"
      ]
     },
     "execution_count": 27,
     "metadata": {},
     "output_type": "execute_result"
    }
   ],
   "source": [
    "job =sur_job.Sample_decode_job(d = 7,\n",
    "                        p_e=p_e,\n",
    "                        p_z_shift= p_z_shift,\n",
    "                        p_p=p_p,\n",
    "                        shots=shots,\n",
    "                        job_id=str(uuid.uuid4()),\n",
    "                        circuit_id=str(uuid.uuid4())\n",
    "                        )\n",
    "dict = job.sample_and_print_result(print_progress = True)\n",
    "dict"
   ]
  },
  {
   "cell_type": "code",
   "execution_count": 28,
   "metadata": {},
   "outputs": [
    {
     "name": "stdout",
     "output_type": "stream",
     "text": [
      "decoding finished 80.0%\n",
      "1.7761905002593994 per shot (d = 9)\n"
     ]
    },
    {
     "data": {
      "text/plain": [
       "{'job_id': '01adfdb3-a140-4408-ac53-803ea1888a64',\n",
       " 'circuit_id': 'a5c0fbeb-701f-471b-8edd-1e1567fc5337',\n",
       " 'shots': 50,\n",
       " 'new_circ': 0,\n",
       " 'normal': 27}"
      ]
     },
     "execution_count": 28,
     "metadata": {},
     "output_type": "execute_result"
    }
   ],
   "source": [
    "job =sur_job.Sample_decode_job(d = 9,\n",
    "                        p_e=p_e,\n",
    "                        p_z_shift= p_z_shift,\n",
    "                        p_p=p_p,\n",
    "                        shots=shots,\n",
    "                        job_id=str(uuid.uuid4()),\n",
    "                        circuit_id=str(uuid.uuid4())\n",
    "                        )\n",
    "dict = job.sample_and_print_result(print_progress = True)\n",
    "dict"
   ]
  },
  {
   "cell_type": "code",
   "execution_count": 29,
   "metadata": {},
   "outputs": [
    {
     "name": "stdout",
     "output_type": "stream",
     "text": [
      "decoding finished 90.0%\n",
      "3.193429179191589 per shot (d = 11)\n"
     ]
    },
    {
     "data": {
      "text/plain": [
       "{'job_id': 'ea1fc1aa-1daf-49b7-a0f3-9b048398cf40',\n",
       " 'circuit_id': 'bff846d3-60e6-466f-8b52-ce756919f60e',\n",
       " 'shots': 100,\n",
       " 'new_circ': 7,\n",
       " 'normal': 42}"
      ]
     },
     "execution_count": 29,
     "metadata": {},
     "output_type": "execute_result"
    }
   ],
   "source": [
    "job =sur_job.Sample_decode_job(d = 11,\n",
    "                        p_e=p_e,\n",
    "                        p_z_shift= p_z_shift,\n",
    "                        p_p=p_p,\n",
    "                        shots=100,\n",
    "                        job_id=str(uuid.uuid4()),\n",
    "                        circuit_id=str(uuid.uuid4())\n",
    "                        )\n",
    "dict = job.sample_and_print_result(print_progress = True)\n",
    "dict"
   ]
  },
  {
   "cell_type": "code",
   "execution_count": null,
   "metadata": {},
   "outputs": [],
   "source": []
  }
 ],
 "metadata": {
  "kernelspec": {
   "display_name": "tensorflow",
   "language": "python",
   "name": "python3"
  },
  "language_info": {
   "codemirror_mode": {
    "name": "ipython",
    "version": 3
   },
   "file_extension": ".py",
   "mimetype": "text/x-python",
   "name": "python",
   "nbconvert_exporter": "python",
   "pygments_lexer": "ipython3",
   "version": "3.10.14"
  },
  "orig_nbformat": 4
 },
 "nbformat": 4,
 "nbformat_minor": 2
}
